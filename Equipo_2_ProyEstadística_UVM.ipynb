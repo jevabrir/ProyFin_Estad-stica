{
  "nbformat": 4,
  "nbformat_minor": 0,
  "metadata": {
    "colab": {
      "provenance": [],
      "authorship_tag": "ABX9TyOOAt4APp6zqFzez8uxTwYd",
      "include_colab_link": true
    },
    "kernelspec": {
      "name": "python3",
      "display_name": "Python 3"
    },
    "language_info": {
      "name": "python"
    }
  },
  "cells": [
    {
      "cell_type": "markdown",
      "metadata": {
        "id": "view-in-github",
        "colab_type": "text"
      },
      "source": [
        "<a href=\"https://colab.research.google.com/github/jevabrir/ProyFin_Estad-stica/blob/main/Equipo_2_ProyEstad%C3%ADstica_UVM.ipynb\" target=\"_parent\"><img src=\"https://colab.research.google.com/assets/colab-badge.svg\" alt=\"Open In Colab\"/></a>"
      ]
    },
    {
      "cell_type": "code",
      "source": [
        "import pandas as pd\n",
        "import seaborn as sns\n",
        "import numpy as np\n",
        "import matplotlib.pyplot as plt\n",
        "\n",
        "pd.set_option('display.float_format', lambda x: f'{x:.4f}')"
      ],
      "metadata": {
        "id": "vGHQJg74ygV9"
      },
      "execution_count": null,
      "outputs": []
    },
    {
      "cell_type": "markdown",
      "source": [
        "##**Equipo 2:**\n",
        "\n",
        "Objetivo: **Estimar USD_CAP**\n",
        "\n",
        "Variables en el modelo:\n",
        "Dependiente:   \n",
        "*  Y= USD_CAP\n",
        "\n",
        "Independientes:\n",
        "\n",
        "*  X1= TIME\n",
        "*  X2=  PC_GDP\n",
        "*  X3=  TOTAL_SPEND"
      ],
      "metadata": {
        "id": "AGFX9tu47Mjm"
      }
    },
    {
      "cell_type": "code",
      "source": [
        "# Leer el archivo Excel\n",
        "df = pd.read_excel('2_DATOS FARMACEUTICOS.xlsx')\n",
        "\n",
        "# Indica el tamaño del df (renglones, columnas)\n",
        "print('El data set contiene',df.shape[0],'filas y',df.shape[1],'columnas\\n')\n",
        "\n",
        "# Ver las primeras 5 líneas del df\n",
        "df.head(5)"
      ],
      "metadata": {
        "id": "uBlDhN3c7Mjn"
      },
      "execution_count": null,
      "outputs": []
    },
    {
      "cell_type": "code",
      "source": [
        "df.columns"
      ],
      "metadata": {
        "id": "prkm4BJZ7Mjo"
      },
      "execution_count": null,
      "outputs": []
    },
    {
      "cell_type": "code",
      "source": [
        "df.info()"
      ],
      "metadata": {
        "id": "_h0Y3hL67Mjo"
      },
      "execution_count": null,
      "outputs": []
    },
    {
      "cell_type": "code",
      "source": [
        "df_numeric = df.select_dtypes(include=['number'])\n",
        "\n",
        "# Convertir todas las columnas a valores numéricos (forzando errores a NaN si no se puede convertir)\n",
        "df_numeric = df_numeric.apply(pd.to_numeric, errors='coerce')\n",
        "\n",
        "# Imputar valores faltantes con la media de cada columna\n",
        "df_imputado = df_numeric.fillna(df_numeric.mean())\n",
        "\n",
        "# Calcular la matriz de correlación\n",
        "corr_matrix = df_imputado.corr()\n",
        "\n",
        "# Ordenar la matriz de correlación por la correlación absoluta con la variable objetivo (Density of Base Fluid (ρbf))\n",
        "corr_sorted = corr_matrix['USD_CAP'].sort_values(ascending=False)\n",
        "\n",
        "# Seleccionar las variables más correlacionadas (puedes ajustar el número de variables que deseas ver)\n",
        "top_corr = corr_sorted.head(10)  # Top 10 variables correlacionadas\n",
        "\n",
        "# Crear la gráfica de correlación\n",
        "plt.figure(figsize=(7, 6))\n",
        "sns.heatmap(df_imputado[top_corr.index].corr(), annot=True, cmap='coolwarm', fmt='.2f', linewidths=0.5)\n",
        "plt.title('Mapa de calor de la correlación de las principales variables')\n",
        "plt.show()"
      ],
      "metadata": {
        "id": "tO5DaRhF7Mjp"
      },
      "execution_count": null,
      "outputs": []
    },
    {
      "cell_type": "code",
      "source": [
        "corr_sorted"
      ],
      "metadata": {
        "id": "eRhekXNK7Mjp"
      },
      "execution_count": null,
      "outputs": []
    },
    {
      "cell_type": "code",
      "source": [
        "# Colocar las variabes de estudio comenzando por la variable a predecir\n",
        "\n",
        "VariablesEstudio = ['USD_CAP','TIME','PC_GDP','TOTAL_SPEND']\n",
        "df_estudio = df_imputado[VariablesEstudio]\n",
        "df_estudio.hist(bins=15, figsize=(7, 7), grid=True, edgecolor='black')\n",
        "plt.suptitle('Histogramas de las Variables', fontsize=16)\n",
        "plt.tight_layout()\n",
        "plt.show()"
      ],
      "metadata": {
        "id": "S5walwcyAoSD"
      },
      "execution_count": null,
      "outputs": []
    },
    {
      "cell_type": "code",
      "source": [
        "df_estudio.describe().T"
      ],
      "metadata": {
        "id": "BYtyP-3zAe9f"
      },
      "execution_count": null,
      "outputs": []
    },
    {
      "cell_type": "code",
      "execution_count": null,
      "metadata": {
        "id": "lQ0GqS177Mjr"
      },
      "outputs": [],
      "source": [
        "# Datos de entrada ['TOTAL_SPEND', 'USD_CAP', 'PC_GDP', 'TIME']\n",
        "\n",
        "X1 = df_estudio.iloc[:, 1]\n",
        "X2 = df_estudio.iloc[:, 2]\n",
        "X3 = df_estudio.iloc[:, 3]\n",
        "Y  = df_estudio.iloc[:, 0]\n",
        "\n",
        "# Construcción de la matriz X con una columna de unos para la intersección\n",
        "X_matrix = np.column_stack((np.ones(len(X1)), X1, X2, X3))\n",
        "\n",
        "# Cálculo de los coeficientes usando la pseudoinversa\n",
        "beta = np.linalg.pinv(X_matrix.T @ X_matrix) @ X_matrix.T @ Y\n",
        "\n",
        "# Separación de coeficientes\n",
        "b, a1, a2, a3 = beta\n",
        "\n",
        "# Calcular valores predichos\n",
        "Y_pred = X_matrix @ beta\n",
        "\n",
        "# Calcular R^2\n",
        "SS_res = np.sum((Y - Y_pred) ** 2)       # Suma de residuos al cuadrado\n",
        "SS_tot = np.sum((Y - np.mean(Y)) ** 2)   # Suma total de cuadrados\n",
        "R2 = 1 - (SS_res / SS_tot)\n",
        "\n",
        "# Mostrar ecuación y R^2\n",
        "print(f\"Ecuación de regresión:\\n\")\n",
        "print(f\"Y = {a1:.3f} X1 + {a2:.3f} X2 + {a3:.3f} X3 + {b:.3f}\\n\")\n",
        "print(f\"Coeficiente de determinación (R²): {R2:.4f}\")\n"
      ]
    },
    {
      "cell_type": "code",
      "source": [
        "import matplotlib.pyplot as plt\n",
        "\n",
        "# Crear figura con tamaño adecuado para 3 subgráficas\n",
        "plt.figure(figsize=(18, 5))\n",
        "\n",
        "# -------- Gráfica de Y vs X1 (Tamaño de la casa) --------\n",
        "plt.subplot(1, 3, 1)\n",
        "plt.scatter(X1, Y, color='blue', label='Datos reales')\n",
        "plt.plot(X1, a1 * X1 + a2 * X2.mean() + a3 * X3.mean() + b, color='red', label='Regresión')\n",
        "plt.xlabel(\"Var 1\")\n",
        "plt.ylabel(\"Y\")\n",
        "plt.title(\" Y vs. Var 1\")\n",
        "plt.legend()\n",
        "plt.grid(True)\n",
        "\n",
        "# -------- Gráfica de Y vs X2 (Número de habitaciones) --------\n",
        "plt.subplot(1, 3, 2)\n",
        "plt.scatter(X2, Y, color='green', label='Datos reales')\n",
        "plt.plot(X2, a1 * X1.mean() + a2 * X2 + a3 * X3.mean() + b, color='red', label='Regresión')\n",
        "plt.xlabel(\"Var 2\")\n",
        "plt.ylabel(\"Y\")\n",
        "plt.title(\" Y vs. Var 2\")\n",
        "plt.legend()\n",
        "plt.grid(True)\n",
        "\n",
        "# -------- Gráfica de Y vs X3 (Edad de la casa, por ejemplo) --------\n",
        "plt.subplot(1, 3, 3)\n",
        "plt.scatter(X3, Y, color='orange', label='Datos reales')\n",
        "plt.plot(X3, a1 * X1.mean() + a2 * X2.mean() + a3 * X3 + b, color='red', label='Regresión')\n",
        "plt.xlabel(\"Var 3\")\n",
        "plt.ylabel(\"Y\")\n",
        "plt.title(\" Y vs. Var 3\")\n",
        "plt.legend()\n",
        "plt.grid(True)\n",
        "\n",
        "# Ajustar el layout y mostrar\n",
        "plt.tight_layout()\n",
        "plt.show()"
      ],
      "metadata": {
        "id": "YEnOTXRz7Mjs"
      },
      "execution_count": null,
      "outputs": []
    }
  ]
}