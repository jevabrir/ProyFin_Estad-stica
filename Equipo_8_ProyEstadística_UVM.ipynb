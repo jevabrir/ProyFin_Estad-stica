{
  "nbformat": 4,
  "nbformat_minor": 0,
  "metadata": {
    "colab": {
      "provenance": [],
      "toc_visible": true,
      "authorship_tag": "ABX9TyMy+jN5+A4WOWxiSAZPPq9c",
      "include_colab_link": true
    },
    "kernelspec": {
      "name": "python3",
      "display_name": "Python 3"
    },
    "language_info": {
      "name": "python"
    }
  },
  "cells": [
    {
      "cell_type": "markdown",
      "metadata": {
        "id": "view-in-github",
        "colab_type": "text"
      },
      "source": [
        "<a href=\"https://colab.research.google.com/github/jevabrir/ProyFin_Estad-stica/blob/main/Equipo_8_ProyEstad%C3%ADstica_UVM.ipynb\" target=\"_parent\"><img src=\"https://colab.research.google.com/assets/colab-badge.svg\" alt=\"Open In Colab\"/></a>"
      ]
    },
    {
      "cell_type": "code",
      "source": [
        "import pandas as pd\n",
        "import seaborn as sns\n",
        "import numpy as np\n",
        "import matplotlib.pyplot as plt\n",
        "\n",
        "pd.set_option('display.float_format', lambda x: f'{x:.3f}')"
      ],
      "metadata": {
        "id": "vGHQJg74ygV9"
      },
      "execution_count": null,
      "outputs": []
    },
    {
      "cell_type": "markdown",
      "source": [
        "##**Equipo 8:**\n",
        "\n",
        "\n",
        "predecir: latest_price\n",
        "\n",
        "Variables en el modelo:\n",
        "Dependiente :  \n",
        "*  y=latest_price\n",
        "\n",
        "Independientes x1, x2, x3:\n",
        "Seleccionen Tres variables del dataset que tengan una correlación alta\n",
        "\n",
        "*  X1= ssd_GB\n",
        "*  X2= ram_gb\n",
        "*  X3= hdd_gb"
      ],
      "metadata": {
        "id": "M9FB0Q1H6aG-"
      }
    },
    {
      "cell_type": "code",
      "source": [
        "# Leer el archivo Excel\n",
        "df = pd.read_excel('8_Laptop SpecsJB.xlsx')\n",
        "\n",
        "\n",
        "# Indica el tamaño del df (renglones, columnas)\n",
        "print('El data set contiene',df.shape[0],'filas y',df.shape[1],'columnas\\n')\n",
        "\n",
        "# Ver las primeras 5 líneas del df\n",
        "df.head(5)"
      ],
      "metadata": {
        "id": "KA14PgHa6aG_"
      },
      "execution_count": null,
      "outputs": []
    },
    {
      "cell_type": "code",
      "source": [
        "df.columns"
      ],
      "metadata": {
        "id": "ZYx9xp6q6aHA"
      },
      "execution_count": null,
      "outputs": []
    },
    {
      "cell_type": "code",
      "source": [
        "df.info()"
      ],
      "metadata": {
        "id": "_25W_UIT6aHB"
      },
      "execution_count": null,
      "outputs": []
    },
    {
      "cell_type": "code",
      "source": [
        "# Convertir todas las columnas a valores numéricos (forzando errores a NaN si no se puede convertir)\n",
        "df_numeric = df.select_dtypes(include=['number'])\n",
        "\n",
        "# Imputar valores faltantes con la media de cada columna\n",
        "df_imputado = df_numeric.fillna(df_numeric.mean())\n",
        "\n",
        "# Calcular la matriz de correlación\n",
        "corr_matrix = df_imputado.corr()\n",
        "\n",
        "# Ordenar la matriz de correlación por la correlación absoluta con la variable objetivo (Density of Base Fluid (ρbf))\n",
        "corr_sorted = corr_matrix['latest_price'].sort_values(ascending=False)\n",
        "\n",
        "# Seleccionar las variables más correlacionadas (puedes ajustar el número de variables que deseas ver)\n",
        "top_corr = corr_sorted.head(10)  # Top 10 variables correlacionadas\n",
        "\n",
        "# Crear la gráfica de correlación\n",
        "plt.figure(figsize=(4, 3))\n",
        "sns.heatmap(df_imputado[top_corr.index].corr(), annot=True, cmap='coolwarm', fmt='.2f', linewidths=0.5)\n",
        "plt.title('Mapa de calor de la correlación de las principales variables')\n",
        "plt.show()"
      ],
      "metadata": {
        "id": "3NU7dNEI6aHB"
      },
      "execution_count": null,
      "outputs": []
    },
    {
      "cell_type": "code",
      "source": [
        "corr_sorted"
      ],
      "metadata": {
        "id": "iOm_qtqP6aHD"
      },
      "execution_count": null,
      "outputs": []
    },
    {
      "cell_type": "code",
      "source": [
        "# Colocar las variabes de estudio comenzando por la variable a predecir\n",
        "\n",
        "VariablesEstudio = ['latest_price','ssd_GB', 'ram_gb', 'hdd_gb' ]\n",
        "df_estudio = df_imputado[VariablesEstudio]\n",
        "df_estudio.head(5)"
      ],
      "metadata": {
        "id": "phr-Sbqa6aHE"
      },
      "execution_count": null,
      "outputs": []
    },
    {
      "cell_type": "code",
      "source": [
        "# Calcular estadísticos\n",
        "df_estudio.describe().T"
      ],
      "metadata": {
        "id": "i6VG5LX-6aHF"
      },
      "execution_count": null,
      "outputs": []
    },
    {
      "cell_type": "code",
      "source": [
        "# Genera Histográmas\n",
        "df_estudio.hist(bins=7, figsize=(7, 7), grid=True, edgecolor='black')\n",
        "plt.suptitle('Histogramas de las Variables', fontsize=16)\n",
        "plt.tight_layout()\n",
        "plt.show()"
      ],
      "metadata": {
        "id": "xGTuIf1P6aHG"
      },
      "execution_count": null,
      "outputs": []
    },
    {
      "cell_type": "code",
      "execution_count": null,
      "metadata": {
        "id": "MInHErIw6aHH"
      },
      "outputs": [],
      "source": [
        "# Código Modelo Regresión Lineal\n",
        "# Datos de entrada\n",
        "X1 = df_estudio.iloc[:, 1]\n",
        "X2 = df_estudio.iloc[:, 2]\n",
        "X3 = df_estudio.iloc[:, 3]\n",
        "Y  = df_estudio.iloc[:, 0]\n",
        "\n",
        "# Construcción de la matriz X con una columna de unos para la intersección\n",
        "X_matrix = np.column_stack((np.ones(len(X1)), X1, X2, X3))\n",
        "\n",
        "# Cálculo de los coeficientes usando la pseudoinversa\n",
        "beta = np.linalg.pinv(X_matrix.T @ X_matrix) @ X_matrix.T @ Y\n",
        "\n",
        "# Separación de coeficientes\n",
        "b, a1, a2, a3 = beta\n",
        "\n",
        "# Calcular valores predichos\n",
        "Y_pred = X_matrix @ beta\n",
        "\n",
        "# Calcular R^2\n",
        "SS_res = np.sum((Y - Y_pred) ** 2)       # Suma de residuos al cuadrado\n",
        "SS_tot = np.sum((Y - np.mean(Y)) ** 2)   # Suma total de cuadrados\n",
        "R2 = 1 - (SS_res / SS_tot)\n",
        "\n",
        "# Mostrar ecuación y R^2\n",
        "print(f\"Ecuación de regresión:\\n\")\n",
        "print(f\"Y = {a1:.3f} X1 + {a2:.3f} X2 + {a3:.3f} X3 + {b:.3f}\\n\")\n",
        "print(f\"Coeficiente de determinación (R²): {R2:.4f}\")\n"
      ]
    },
    {
      "cell_type": "code",
      "source": [
        "import matplotlib.pyplot as plt\n",
        "\n",
        "# Crear figura con tamaño adecuado para 3 subgráficas\n",
        "plt.figure(figsize=(18, 5))\n",
        "\n",
        "# -------- Gráfica de Y vs X1 (Tamaño de la casa) --------\n",
        "plt.subplot(1, 3, 1)\n",
        "plt.scatter(X1, Y, color='blue', label='Datos reales')\n",
        "plt.plot(X1, a1 * X1 + a2 * X2.mean() + a3 * X3.mean() + b, color='red', label='Regresión')\n",
        "plt.xlabel(\"Var 1\")\n",
        "plt.ylabel(\"Y\")\n",
        "plt.title(\" Y vs. Var 1\")\n",
        "plt.legend()\n",
        "plt.grid(True)\n",
        "\n",
        "# -------- Gráfica de Y vs X2 (Número de habitaciones) --------\n",
        "plt.subplot(1, 3, 2)\n",
        "plt.scatter(X2, Y, color='green', label='Datos reales')\n",
        "plt.plot(X2, a1 * X1.mean() + a2 * X2 + a3 * X3.mean() + b, color='red', label='Regresión')\n",
        "plt.xlabel(\"Var 2\")\n",
        "plt.ylabel(\"Y\")\n",
        "plt.title(\" Y vs. Var 2\")\n",
        "plt.legend()\n",
        "plt.grid(True)\n",
        "\n",
        "# -------- Gráfica de Y vs X3 (Edad de la casa, por ejemplo) --------\n",
        "plt.subplot(1, 3, 3)\n",
        "plt.scatter(X3, Y, color='orange', label='Datos reales')\n",
        "plt.plot(X3, a1 * X1.mean() + a2 * X2.mean() + a3 * X3 + b, color='red', label='Regresión')\n",
        "plt.xlabel(\"Var 3\")\n",
        "plt.ylabel(\"Y\")\n",
        "plt.title(\" Y vs. Var 3\")\n",
        "plt.legend()\n",
        "plt.grid(True)\n",
        "\n",
        "# Ajustar el layout y mostrar\n",
        "plt.tight_layout()\n",
        "plt.show()"
      ],
      "metadata": {
        "id": "PHNBqbFY6aHI"
      },
      "execution_count": null,
      "outputs": []
    },
    {
      "cell_type": "code",
      "source": [
        "def predecir_y(beta, x1, x2, x3):\n",
        "    \"\"\"\n",
        "    Predice el valor de Y dado un conjunto de variables independientes y los coeficientes del modelo.\n",
        "    \"\"\"\n",
        "    b, a1, a2, a3 = beta\n",
        "    y_estimada = a1 * x1 + a2 * x2 + a3 * x3 + b\n",
        "    print(f\"\\nPara X1={x1}, X2={x2}, X3={x3} → Y estimado = {y_estimada:.3f}\")\n",
        "    return y_estimada"
      ],
      "metadata": {
        "id": "XkB54Uj36aHI"
      },
      "execution_count": null,
      "outputs": []
    },
    {
      "cell_type": "code",
      "source": [
        "y_est = predecir_y(beta, x1=1000, x2=16, x3=1000)"
      ],
      "metadata": {
        "id": "2JEy9sF76aHJ"
      },
      "execution_count": null,
      "outputs": []
    }
  ]
}