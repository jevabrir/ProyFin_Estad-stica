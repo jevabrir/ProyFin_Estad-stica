{
  "nbformat": 4,
  "nbformat_minor": 0,
  "metadata": {
    "colab": {
      "provenance": [],
      "authorship_tag": "ABX9TyPtMmSTUJIMqT7t1vq8y9qZ",
      "include_colab_link": true
    },
    "kernelspec": {
      "name": "python3",
      "display_name": "Python 3"
    },
    "language_info": {
      "name": "python"
    }
  },
  "cells": [
    {
      "cell_type": "markdown",
      "metadata": {
        "id": "view-in-github",
        "colab_type": "text"
      },
      "source": [
        "<a href=\"https://colab.research.google.com/github/jevabrir/ProyFin_Estad-stica/blob/main/Proy_PrecioCasas_UVM.ipynb\" target=\"_parent\"><img src=\"https://colab.research.google.com/assets/colab-badge.svg\" alt=\"Open In Colab\"/></a>"
      ]
    },
    {
      "cell_type": "code",
      "source": [
        "import pandas as pd\n",
        "import seaborn as sns\n",
        "import numpy as np\n",
        "import matplotlib.pyplot as plt\n",
        "\n",
        "pd.set_option('display.float_format', lambda x: f'{x:.3f}')\n",
        "\n",
        "\n",
        "# Leer el archivo Excel\n",
        "df = pd.read_excel('Datos_Kaggle_Ejem.xlsx')\n",
        "\n",
        "# Ver las primeras 5 líneas del df\n",
        "df.head(5)"
      ],
      "metadata": {
        "id": "cUwZHk85wRbA"
      },
      "execution_count": null,
      "outputs": []
    },
    {
      "cell_type": "code",
      "source": [
        "# Indica el tamaño del df (renglones, columnas)\n",
        "df.shape"
      ],
      "metadata": {
        "id": "5t07SBV41w-i"
      },
      "execution_count": null,
      "outputs": []
    },
    {
      "cell_type": "code",
      "source": [
        "df.columns"
      ],
      "metadata": {
        "id": "sWKiqbHiys3n"
      },
      "execution_count": null,
      "outputs": []
    },
    {
      "cell_type": "code",
      "source": [
        "df_numeric = df.select_dtypes(include=['number'])\n",
        "\n",
        "# Convertir todas las columnas a valores numéricos (forzando errores a NaN si no se puede convertir)\n",
        "df_numeric = df_numeric.apply(pd.to_numeric, errors='coerce')\n",
        "\n",
        "# Imputar valores faltantes con la media de cada columna\n",
        "df_imputado = df_numeric.fillna(df_numeric.mean())\n",
        "\n",
        "# Calcular la matriz de correlación\n",
        "corr_matrix = df_imputado.corr()\n",
        "\n",
        "# Ordenar la matriz de correlación por la correlación absoluta con la variable objetivo (por ejemplo, 'SalePrice')\n",
        "corr_sorted = corr_matrix['SalePrice'].sort_values(ascending=False)\n",
        "\n",
        "# Seleccionar las variables más correlacionadas (puedes ajustar el número de variables que deseas ver)\n",
        "top_corr = corr_sorted.head(10)  # Top 10 variables correlacionadas\n",
        "\n",
        "# Crear la gráfica de correlación\n",
        "plt.figure(figsize=(7, 6))\n",
        "sns.heatmap(df_imputado[top_corr.index].corr(), annot=True, cmap='coolwarm', fmt='.2f', linewidths=0.5)\n",
        "plt.title('Mapa de calor de la correlación de las principales variables')\n",
        "plt.show()"
      ],
      "metadata": {
        "id": "V4rVU5WNogE-"
      },
      "execution_count": null,
      "outputs": []
    },
    {
      "cell_type": "code",
      "source": [
        "# Son las variables de interés\n",
        "\n",
        "#'FullBath'    = Número de baños completos\n",
        "# 1stFlrSF\t   = Superficie del primer piso pies cuadrados\n",
        "# 2ndFlrSF\t   = Superficie del segundo piso\n",
        "# BedroomAbvGr = Número de Dormitorios sobre rasante\n",
        "# AntiqueYear  = Antiguedad casa a partir del año 2025\n",
        "# SalePrice\t   = Precio de venta en dólares\n",
        "\n",
        "# Calcular la columna TotSF como la suma de 1stFlrSF + 1stFlrSF\n",
        "df_imputado['TotSF'] = df_imputado['1stFlrSF'] + df_imputado['2ndFlrSF']\n",
        "\n",
        "\n",
        "# Seleccionar columnas de interés\n",
        "VariablesEstudio = ['SalePrice', 'TotSF', 'BedroomAbvGr', 'AntiqueYear']\n",
        "\n",
        "# Generar df con variables de estudio\n",
        "df_estudio = df_imputado[VariablesEstudio]\n",
        "\n",
        "# Ver las primeras 5 líneas del df\n",
        "df_estudio.head(5)"
      ],
      "metadata": {
        "id": "NklMnnRxyenE"
      },
      "execution_count": null,
      "outputs": []
    },
    {
      "cell_type": "code",
      "source": [
        "df_estudio.info()"
      ],
      "metadata": {
        "id": "4gZsMhZj0rFa"
      },
      "execution_count": null,
      "outputs": []
    },
    {
      "cell_type": "code",
      "source": [
        "# calcula los principales estadísticos del df\n",
        "df_estudio.describe().T"
      ],
      "metadata": {
        "id": "5u8itbgh07bQ"
      },
      "execution_count": null,
      "outputs": []
    },
    {
      "cell_type": "code",
      "source": [
        "# Crear histogramas para todas las columnas numéricas\n",
        "df_estudio.hist(bins=20, figsize=(10, 7), grid=True, edgecolor='black')\n",
        "\n",
        "plt.suptitle('Histogramas de las Variables', fontsize=16)\n",
        "plt.tight_layout()\n",
        "plt.show()"
      ],
      "metadata": {
        "id": "v9ITPKOm78TT"
      },
      "execution_count": null,
      "outputs": []
    },
    {
      "cell_type": "code",
      "execution_count": null,
      "metadata": {
        "id": "x-XB8z-Nv9EX"
      },
      "outputs": [],
      "source": [
        "# Datos de entrada\n",
        "\n",
        "X1 = df_estudio['TotSF']\t         # Tamaño en pies²\n",
        "X2 = df_estudio['BedroomAbvGr']    # Número de habitaciones\n",
        "X3 =df_estudio['AntiqueYear']      # Edad Casa (años)\n",
        "Y= df_estudio['SalePrice']         # Precio casa en (dólares)\n",
        "\n",
        "\n",
        "# Construcción de la matriz X con una columna de unos para la intersección\n",
        "X_matrix = np.column_stack((np.ones(len(X1)), X1, X2, X3))\n",
        "\n",
        "# Cálculo de los coeficientes usando la pseudoinversa\n",
        "beta = np.linalg.pinv(X_matrix.T @ X_matrix) @ X_matrix.T @ Y\n",
        "\n",
        "# Separación de coeficientes\n",
        "b, a1, a2, a3 = beta\n",
        "\n",
        "# Calcular valores predichos\n",
        "Y_pred = X_matrix @ beta\n",
        "\n",
        "# Calcular R^2\n",
        "SS_res = np.sum((Y - Y_pred) ** 2)       # Suma de residuos al cuadrado\n",
        "SS_tot = np.sum((Y - np.mean(Y)) ** 2)   # Suma total de cuadrados\n",
        "R2 = 1 - (SS_res / SS_tot)\n",
        "\n",
        "# Mostrar ecuación y R^2\n",
        "print(f\"Ecuación de regresión:\\n\")\n",
        "print(f\"Y = {a1:.3f} X1 + {a2:.3f} X2 + {a3:.3f} X3 + {b:.3f}\\n\")\n",
        "print(f\"Coeficiente de determinación (R²): {R2:.4f}\")\n"
      ]
    },
    {
      "cell_type": "code",
      "source": [
        "import matplotlib.pyplot as plt\n",
        "\n",
        "# Crear figura con tamaño adecuado para 3 subgráficas\n",
        "plt.figure(figsize=(18, 5))\n",
        "\n",
        "# -------- Gráfica de Y vs X1 (Tamaño de la casa) --------\n",
        "plt.subplot(1, 3, 1)\n",
        "plt.scatter(X1, Y, color='blue', label='Datos reales')\n",
        "plt.plot(X1, a1 * X1 + a2 * X2.mean() + a3 * X3.mean() + b, color='red', label='Regresión')\n",
        "plt.xlabel(\"Tamaño de la casa (pies²)\")\n",
        "plt.ylabel(\"Precio (dólares)\")\n",
        "plt.title(\"Precio vs. Tamaño de la casa\")\n",
        "plt.legend()\n",
        "plt.grid(True)\n",
        "\n",
        "# -------- Gráfica de Y vs X2 (Número de habitaciones) --------\n",
        "plt.subplot(1, 3, 2)\n",
        "plt.scatter(X2, Y, color='green', label='Datos reales')\n",
        "plt.plot(X2, a1 * X1.mean() + a2 * X2 + a3 * X3.mean() + b, color='red', label='Regresión')\n",
        "plt.xlabel(\"Número de habitaciones\")\n",
        "plt.ylabel(\"Precio (dólares)\")\n",
        "plt.title(\"Precio vs. Número de habitaciones\")\n",
        "plt.legend()\n",
        "plt.grid(True)\n",
        "\n",
        "# -------- Gráfica de Y vs X3 (Edad de la casa, por ejemplo) --------\n",
        "plt.subplot(1, 3, 3)\n",
        "plt.scatter(X3, Y, color='orange', label='Datos reales')\n",
        "plt.plot(X3, a1 * X1.mean() + a2 * X2.mean() + a3 * X3 + b, color='red', label='Regresión')\n",
        "plt.xlabel(\"Edad de la casa (años)\")\n",
        "plt.ylabel(\"Precio (dólares)\")\n",
        "plt.title(\"Precio vs. Edad de la casa\")\n",
        "plt.legend()\n",
        "plt.grid(True)\n",
        "\n",
        "# Ajustar el layout y mostrar\n",
        "plt.tight_layout()\n",
        "plt.show()"
      ],
      "metadata": {
        "id": "JvGjkV9q6orR"
      },
      "execution_count": null,
      "outputs": []
    }
  ]
}